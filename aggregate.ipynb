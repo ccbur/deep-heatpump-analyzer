{
 "metadata": {
  "language_info": {
   "codemirror_mode": {
    "name": "ipython",
    "version": 3
   },
   "file_extension": ".py",
   "mimetype": "text/x-python",
   "name": "python",
   "nbconvert_exporter": "python",
   "pygments_lexer": "ipython3",
   "version": "3.8.5-final"
  },
  "orig_nbformat": 2,
  "kernelspec": {
   "name": "python3",
   "display_name": "Python 3",
   "language": "python"
  }
 },
 "nbformat": 4,
 "nbformat_minor": 2,
 "cells": [
  {
   "cell_type": "code",
   "execution_count": 5,
   "metadata": {},
   "outputs": [],
   "source": [
    "import pandas as pd\n",
    "import gzip"
   ]
  },
  {
   "cell_type": "code",
   "execution_count": 4,
   "metadata": {},
   "outputs": [
    {
     "output_type": "error",
     "ename": "FileNotFoundError",
     "evalue": "[Errno 2] No such file or directory: 'data/heatpump_temperature_1.csv'",
     "traceback": [
      "\u001b[0;31m---------------------------------------------------------------------------\u001b[0m",
      "\u001b[0;31mFileNotFoundError\u001b[0m                         Traceback (most recent call last)",
      "\u001b[0;32m<ipython-input-4-927d40b6c516>\u001b[0m in \u001b[0;36m<module>\u001b[0;34m\u001b[0m\n\u001b[1;32m      4\u001b[0m \u001b[0;34m\u001b[0m\u001b[0m\n\u001b[1;32m      5\u001b[0m \u001b[0;32mfor\u001b[0m \u001b[0mi\u001b[0m\u001b[0;34m,\u001b[0m \u001b[0mfile\u001b[0m \u001b[0;32min\u001b[0m \u001b[0menumerate\u001b[0m\u001b[0;34m(\u001b[0m\u001b[0mfiles\u001b[0m\u001b[0;34m)\u001b[0m\u001b[0;34m:\u001b[0m\u001b[0;34m\u001b[0m\u001b[0;34m\u001b[0m\u001b[0m\n\u001b[0;32m----> 6\u001b[0;31m     \u001b[0;32mwith\u001b[0m \u001b[0mgzip\u001b[0m\u001b[0;34m.\u001b[0m\u001b[0mopen\u001b[0m\u001b[0;34m(\u001b[0m\u001b[0mfile\u001b[0m\u001b[0;34m,\u001b[0m \u001b[0;34m\"rb\"\u001b[0m\u001b[0;34m)\u001b[0m \u001b[0;32mas\u001b[0m \u001b[0mf\u001b[0m\u001b[0;34m:\u001b[0m\u001b[0;34m\u001b[0m\u001b[0;34m\u001b[0m\u001b[0m\n\u001b[0m\u001b[1;32m      7\u001b[0m         \u001b[0mdf\u001b[0m \u001b[0;34m=\u001b[0m \u001b[0mpd\u001b[0m\u001b[0;34m.\u001b[0m\u001b[0mread_csv\u001b[0m\u001b[0;34m(\u001b[0m\u001b[0mf\u001b[0m\u001b[0;34m,\u001b[0m \u001b[0msep\u001b[0m\u001b[0;34m=\u001b[0m\u001b[0;34m';'\u001b[0m\u001b[0;34m,\u001b[0m \u001b[0mnames\u001b[0m\u001b[0;34m=\u001b[0m\u001b[0mtimeval\u001b[0m\u001b[0;34m)\u001b[0m\u001b[0;34m\u001b[0m\u001b[0;34m\u001b[0m\u001b[0m\n\u001b[1;32m      8\u001b[0m \u001b[0;34m\u001b[0m\u001b[0m\n",
      "\u001b[0;32m/usr/lib/python3.8/gzip.py\u001b[0m in \u001b[0;36mopen\u001b[0;34m(filename, mode, compresslevel, encoding, errors, newline)\u001b[0m\n\u001b[1;32m     56\u001b[0m     \u001b[0mgz_mode\u001b[0m \u001b[0;34m=\u001b[0m \u001b[0mmode\u001b[0m\u001b[0;34m.\u001b[0m\u001b[0mreplace\u001b[0m\u001b[0;34m(\u001b[0m\u001b[0;34m\"t\"\u001b[0m\u001b[0;34m,\u001b[0m \u001b[0;34m\"\"\u001b[0m\u001b[0;34m)\u001b[0m\u001b[0;34m\u001b[0m\u001b[0;34m\u001b[0m\u001b[0m\n\u001b[1;32m     57\u001b[0m     \u001b[0;32mif\u001b[0m \u001b[0misinstance\u001b[0m\u001b[0;34m(\u001b[0m\u001b[0mfilename\u001b[0m\u001b[0;34m,\u001b[0m \u001b[0;34m(\u001b[0m\u001b[0mstr\u001b[0m\u001b[0;34m,\u001b[0m \u001b[0mbytes\u001b[0m\u001b[0;34m,\u001b[0m \u001b[0mos\u001b[0m\u001b[0;34m.\u001b[0m\u001b[0mPathLike\u001b[0m\u001b[0;34m)\u001b[0m\u001b[0;34m)\u001b[0m\u001b[0;34m:\u001b[0m\u001b[0;34m\u001b[0m\u001b[0;34m\u001b[0m\u001b[0m\n\u001b[0;32m---> 58\u001b[0;31m         \u001b[0mbinary_file\u001b[0m \u001b[0;34m=\u001b[0m \u001b[0mGzipFile\u001b[0m\u001b[0;34m(\u001b[0m\u001b[0mfilename\u001b[0m\u001b[0;34m,\u001b[0m \u001b[0mgz_mode\u001b[0m\u001b[0;34m,\u001b[0m \u001b[0mcompresslevel\u001b[0m\u001b[0;34m)\u001b[0m\u001b[0;34m\u001b[0m\u001b[0;34m\u001b[0m\u001b[0m\n\u001b[0m\u001b[1;32m     59\u001b[0m     \u001b[0;32melif\u001b[0m \u001b[0mhasattr\u001b[0m\u001b[0;34m(\u001b[0m\u001b[0mfilename\u001b[0m\u001b[0;34m,\u001b[0m \u001b[0;34m\"read\"\u001b[0m\u001b[0;34m)\u001b[0m \u001b[0;32mor\u001b[0m \u001b[0mhasattr\u001b[0m\u001b[0;34m(\u001b[0m\u001b[0mfilename\u001b[0m\u001b[0;34m,\u001b[0m \u001b[0;34m\"write\"\u001b[0m\u001b[0;34m)\u001b[0m\u001b[0;34m:\u001b[0m\u001b[0;34m\u001b[0m\u001b[0;34m\u001b[0m\u001b[0m\n\u001b[1;32m     60\u001b[0m         \u001b[0mbinary_file\u001b[0m \u001b[0;34m=\u001b[0m \u001b[0mGzipFile\u001b[0m\u001b[0;34m(\u001b[0m\u001b[0;32mNone\u001b[0m\u001b[0;34m,\u001b[0m \u001b[0mgz_mode\u001b[0m\u001b[0;34m,\u001b[0m \u001b[0mcompresslevel\u001b[0m\u001b[0;34m,\u001b[0m \u001b[0mfilename\u001b[0m\u001b[0;34m)\u001b[0m\u001b[0;34m\u001b[0m\u001b[0;34m\u001b[0m\u001b[0m\n",
      "\u001b[0;32m/usr/lib/python3.8/gzip.py\u001b[0m in \u001b[0;36m__init__\u001b[0;34m(self, filename, mode, compresslevel, fileobj, mtime)\u001b[0m\n\u001b[1;32m    171\u001b[0m             \u001b[0mmode\u001b[0m \u001b[0;34m+=\u001b[0m \u001b[0;34m'b'\u001b[0m\u001b[0;34m\u001b[0m\u001b[0;34m\u001b[0m\u001b[0m\n\u001b[1;32m    172\u001b[0m         \u001b[0;32mif\u001b[0m \u001b[0mfileobj\u001b[0m \u001b[0;32mis\u001b[0m \u001b[0;32mNone\u001b[0m\u001b[0;34m:\u001b[0m\u001b[0;34m\u001b[0m\u001b[0;34m\u001b[0m\u001b[0m\n\u001b[0;32m--> 173\u001b[0;31m             \u001b[0mfileobj\u001b[0m \u001b[0;34m=\u001b[0m \u001b[0mself\u001b[0m\u001b[0;34m.\u001b[0m\u001b[0mmyfileobj\u001b[0m \u001b[0;34m=\u001b[0m \u001b[0mbuiltins\u001b[0m\u001b[0;34m.\u001b[0m\u001b[0mopen\u001b[0m\u001b[0;34m(\u001b[0m\u001b[0mfilename\u001b[0m\u001b[0;34m,\u001b[0m \u001b[0mmode\u001b[0m \u001b[0;32mor\u001b[0m \u001b[0;34m'rb'\u001b[0m\u001b[0;34m)\u001b[0m\u001b[0;34m\u001b[0m\u001b[0;34m\u001b[0m\u001b[0m\n\u001b[0m\u001b[1;32m    174\u001b[0m         \u001b[0;32mif\u001b[0m \u001b[0mfilename\u001b[0m \u001b[0;32mis\u001b[0m \u001b[0;32mNone\u001b[0m\u001b[0;34m:\u001b[0m\u001b[0;34m\u001b[0m\u001b[0;34m\u001b[0m\u001b[0m\n\u001b[1;32m    175\u001b[0m             \u001b[0mfilename\u001b[0m \u001b[0;34m=\u001b[0m \u001b[0mgetattr\u001b[0m\u001b[0;34m(\u001b[0m\u001b[0mfileobj\u001b[0m\u001b[0;34m,\u001b[0m \u001b[0;34m'name'\u001b[0m\u001b[0;34m,\u001b[0m \u001b[0;34m''\u001b[0m\u001b[0;34m)\u001b[0m\u001b[0;34m\u001b[0m\u001b[0;34m\u001b[0m\u001b[0m\n",
      "\u001b[0;31mFileNotFoundError\u001b[0m: [Errno 2] No such file or directory: 'data/heatpump_temperature_1.csv'"
     ]
    }
   ],
   "source": [
    "timeval = ['time', 'value']\n",
    "files = ['data/heatpump_temperature_1.csv.gz', 'data/heatpump_temperature_2.csv.gz', 'data/heatpump_temperature_3.csv.gz', 'data/heatpump_temperature_4.csv.gz', 'data/heatpump_temperature_5.csv.gz', 'data/heatpump_temperature_6.csv.gz', 'data/heatpump_return_external.csv.gz', 'data/heatpump_hot_gas.csv.gz',  'data/heatpump_probe_in.csv.gz', 'data/heatpump_mk1.csv.gz', 'data/heatpump_mk1_reference.csv.gz', 'data/heatpump_starts_compressor1.csv.gz', 'data/heatpump_state.csv.gz', 'data/heatpump_extended_state.csv.gz']\n",
    "cols = ['outside', 'return', 'reference_return', 'supply', 'servicewater_reference', 'servicewater', 'return_external', 'hot_gas', 'probe_in', 'mk1', 'mk1_reference', 'starts_compressor1', 'state', 'extended_state']\n",
    "\n",
    "for i, file in enumerate(files):\n",
    "    with gzip.open(file, \"rb\") as f:\n",
    "        df = pd.read_csv(f, sep=';', names=timeval)\n",
    "\n",
    "#    df = pd.read_csv(file, sep=';', names=timeval)\n",
    "    df['time'] = pd.to_datetime(df['time'], format='%Y-%m-%d %H:%M:%S')\n",
    "    df.sort_values('time', inplace=True)\n",
    "    \n",
    "    df.rename(columns={\"value\": cols[i]}, inplace=True)\n",
    "\n",
    "    print(file)\n",
    "    print(df)\n",
    "\n",
    "    if i == 0:\n",
    "        merged_df = df\n",
    "    else:\n",
    "        merged_df = pd.merge_asof(merged_df.sort_values('time'), df, on='time')\n",
    "\n",
    "merged_df.set_index('time', inplace=True)\n",
    "\n",
    "print(merged_df)\n",
    "\n",
    "#print(temp1)\n",
    "#print(return_external)"
   ]
  },
  {
   "cell_type": "code",
   "execution_count": 35,
   "metadata": {},
   "outputs": [],
   "source": [
    "merged_df['compressor_heating'] = merged_df['extended_state'].str.contains('compressor heating up:') | merged_df['extended_state'].str.contains('unknown:')\n",
    "merged_df['defrosting'] = merged_df['extended_state'].str.contains('defrosting:')\n",
    "merged_df['heatpump_running'] = merged_df['state'].str.contains('Heatpump running:')\n",
    "merged_df['heatpump_heating'] = merged_df['extended_state'].str.contains('heating:')\n",
    "merged_df['heatpump_servicewater'] = merged_df['extended_state'].str.contains('service water:')\n"
   ]
  },
  {
   "cell_type": "code",
   "execution_count": 36,
   "metadata": {},
   "outputs": [
    {
     "output_type": "execute_result",
     "data": {
      "text/plain": [
       "time\n",
       "1     49.268421\n",
       "2     47.779328\n",
       "3     45.437250\n",
       "4     43.195951\n",
       "5     41.610417\n",
       "10    41.817818\n",
       "11    44.976126\n",
       "12    47.408741\n",
       "Name: hot_gas, dtype: float64"
      ]
     },
     "metadata": {},
     "execution_count": 36
    }
   ],
   "source": [
    "df_defrosting = merged_df[merged_df['defrosting']==True]\n",
    "#df_defrosting.groupby(by=[df_defrosting.index.month, df_defrosting.index.year])['defrosting'].sum()\n",
    "df_defrosting.groupby(by=[df_defrosting.index.month])['hot_gas'].mean()"
   ]
  },
  {
   "cell_type": "code",
   "execution_count": 38,
   "metadata": {},
   "outputs": [
    {
     "output_type": "stream",
     "name": "stdout",
     "text": [
      "time\n1     14.433574\n2     15.800000\n3     14.075399\n4     15.525028\n5     17.141829\n6     14.537316\n7     15.548469\n8     15.317804\n9     15.924297\n10    16.616212\n11    16.805267\n12    17.097427\n13    18.615747\n14    19.477051\n15    20.537031\n16    20.374599\n17    20.067411\n18    21.521059\n19    23.241848\n20    22.583965\n21    26.299360\n22    26.805753\n23    25.746602\n24    26.052708\n25    27.751928\n26    28.099902\n27    28.113965\n28    27.284555\n29    28.818042\n30    29.028017\n31    28.782789\n32    27.727880\n33    27.712985\n34    27.895511\n35    27.132382\n36    24.837901\n37    24.407562\n38    23.862086\n39    23.326798\n40    20.134608\n41    21.702313\n42    20.926358\n43    19.357206\n44    18.276557\n45    17.362019\n46    17.124287\n47    17.672892\n48    14.656778\n49    18.794903\n50    17.470110\n51    17.442094\n52    16.304890\nName: hot_gas, dtype: float64\ntime\n1      0\n2      0\n3      0\n4      0\n5      0\n6      0\n7      0\n8     16\n9      0\n10     0\n11    10\n12     0\n13    18\n14    29\n15    13\n16    56\n17     8\n18    21\n19     7\n20    34\n21    12\n22     0\n23    39\n24    37\n25    50\n26    20\n27    43\n28    30\n29    18\n30    58\n31    45\n32    68\n33    21\n34    23\n35    11\n36    52\n37    66\n38    51\n39     0\n40    40\n41     0\n42     2\n43    15\n44     7\n45     6\n46    18\n47     0\n48     0\n49     0\n50     0\n51    29\n52     0\nName: compressor_heating, dtype: int64\n"
     ]
    }
   ],
   "source": [
    "df_night = merged_df[merged_df.index.hour == 22]\n",
    "print(df_night.groupby(by=[df_night.index.week])['hot_gas'].mean())\n",
    "print(df_night.groupby(by=[df_night.index.week])['compressor_heating'].sum())\n",
    "\n"
   ]
  },
  {
   "cell_type": "code",
   "execution_count": 21,
   "metadata": {},
   "outputs": [
    {
     "output_type": "execute_result",
     "data": {
      "text/plain": [
       "                     outside  return  reference_return  supply  \\\n",
       "time                                                             \n",
       "2016-01-16 14:35:50     13.8     NaN               NaN    34.0   \n",
       "2016-01-16 14:36:00     13.9     NaN               NaN    34.1   \n",
       "2016-01-16 14:36:50     13.8    28.9               NaN    34.3   \n",
       "2016-01-16 14:37:01     13.9    28.9               NaN    34.3   \n",
       "2016-01-16 14:37:51     13.8    28.9               NaN    34.2   \n",
       "...                      ...     ...               ...     ...   \n",
       "2020-12-24 22:57:30     11.9    21.7              15.0    21.7   \n",
       "2020-12-24 23:03:14     12.0    21.6              15.0    21.7   \n",
       "2020-12-24 23:03:24     11.9    21.6              15.0    21.7   \n",
       "2020-12-24 23:05:35     12.0    21.6              15.0    21.7   \n",
       "2020-12-24 23:05:45     11.9    21.6              15.0    21.7   \n",
       "\n",
       "                     servicewater_reference  servicewater  return_external  \\\n",
       "time                                                                         \n",
       "2016-01-16 14:35:50                     NaN           NaN              NaN   \n",
       "2016-01-16 14:36:00                     NaN          38.5              NaN   \n",
       "2016-01-16 14:36:50                     NaN          38.6              NaN   \n",
       "2016-01-16 14:37:01                     NaN          38.6              NaN   \n",
       "2016-01-16 14:37:51                     NaN          38.6              NaN   \n",
       "...                                     ...           ...              ...   \n",
       "2020-12-24 22:57:30                    43.0          42.4             38.2   \n",
       "2020-12-24 23:03:14                    43.0          42.4             38.2   \n",
       "2020-12-24 23:03:24                    43.0          42.4             38.2   \n",
       "2020-12-24 23:05:35                    43.0          42.4             38.2   \n",
       "2020-12-24 23:05:45                    43.0          42.4             38.2   \n",
       "\n",
       "                     hot_gas  probe_in   mk1  mk1_reference  \\\n",
       "time                                                          \n",
       "2016-01-16 14:35:50     60.9       3.7   NaN            NaN   \n",
       "2016-01-16 14:36:00     61.0       3.7   NaN            NaN   \n",
       "2016-01-16 14:36:50     61.0       3.6   NaN            NaN   \n",
       "2016-01-16 14:37:01     61.0       3.6   NaN            NaN   \n",
       "2016-01-16 14:37:51     61.1       3.6  33.1            NaN   \n",
       "...                      ...       ...   ...            ...   \n",
       "2020-12-24 22:57:30     14.9       5.9  22.1            0.0   \n",
       "2020-12-24 23:03:14     14.8       5.6  22.1            0.0   \n",
       "2020-12-24 23:03:24     14.8       5.6  22.1            0.0   \n",
       "2020-12-24 23:05:35     14.8       5.6  22.1            0.0   \n",
       "2020-12-24 23:05:45     14.8       5.7  22.1            0.0   \n",
       "\n",
       "                     starts_compressor1                       state  \\\n",
       "time                                                                  \n",
       "2016-01-16 14:35:50                1447  Heatpump running: 04:30:27   \n",
       "2016-01-16 14:36:00                1447  Heatpump running: 04:30:38   \n",
       "2016-01-16 14:36:50                1447  Heatpump running: 04:31:17   \n",
       "2016-01-16 14:37:01                1447  Heatpump running: 04:31:37   \n",
       "2016-01-16 14:37:51                1447  Heatpump running: 04:32:28   \n",
       "...                                 ...                         ...   \n",
       "2020-12-24 22:57:30                3745  Heatpump stopped: 08:13:56   \n",
       "2020-12-24 23:03:14                3745  Heatpump stopped: 08:19:37   \n",
       "2020-12-24 23:03:24                3745  Heatpump stopped: 08:19:47   \n",
       "2020-12-24 23:05:35                3745  Heatpump stopped: 08:21:59   \n",
       "2020-12-24 23:05:45                3745  Heatpump stopped: 08:22:08   \n",
       "\n",
       "                        extended_state  compressor_heating  defrosting  \\\n",
       "time                                                                     \n",
       "2016-01-16 14:35:50  heating: 04:30:27               False       False   \n",
       "2016-01-16 14:36:00  heating: 04:30:38               False       False   \n",
       "2016-01-16 14:36:50  heating: 04:31:17               False       False   \n",
       "2016-01-16 14:37:01  heating: 04:31:37               False       False   \n",
       "2016-01-16 14:37:51  heating: 04:32:28               False       False   \n",
       "...                                ...                 ...         ...   \n",
       "2020-12-24 22:57:30  standby: 08:13:56               False       False   \n",
       "2020-12-24 23:03:14  standby: 08:19:37               False       False   \n",
       "2020-12-24 23:03:24  standby: 08:19:47               False       False   \n",
       "2020-12-24 23:05:35  standby: 08:21:59               False       False   \n",
       "2020-12-24 23:05:45  standby: 08:22:08               False       False   \n",
       "\n",
       "                     heatpump_running  heatpump_heating  heatpump_servicewater  \n",
       "time                                                                            \n",
       "2016-01-16 14:35:50              True              True                  False  \n",
       "2016-01-16 14:36:00              True              True                  False  \n",
       "2016-01-16 14:36:50              True              True                  False  \n",
       "2016-01-16 14:37:01              True              True                  False  \n",
       "2016-01-16 14:37:51              True              True                  False  \n",
       "...                               ...               ...                    ...  \n",
       "2020-12-24 22:57:30             False             False                  False  \n",
       "2020-12-24 23:03:14             False             False                  False  \n",
       "2020-12-24 23:03:24             False             False                  False  \n",
       "2020-12-24 23:05:35             False             False                  False  \n",
       "2020-12-24 23:05:45             False             False                  False  \n",
       "\n",
       "[2071709 rows x 19 columns]"
      ],
      "text/html": "<div>\n<style scoped>\n    .dataframe tbody tr th:only-of-type {\n        vertical-align: middle;\n    }\n\n    .dataframe tbody tr th {\n        vertical-align: top;\n    }\n\n    .dataframe thead th {\n        text-align: right;\n    }\n</style>\n<table border=\"1\" class=\"dataframe\">\n  <thead>\n    <tr style=\"text-align: right;\">\n      <th></th>\n      <th>outside</th>\n      <th>return</th>\n      <th>reference_return</th>\n      <th>supply</th>\n      <th>servicewater_reference</th>\n      <th>servicewater</th>\n      <th>return_external</th>\n      <th>hot_gas</th>\n      <th>probe_in</th>\n      <th>mk1</th>\n      <th>mk1_reference</th>\n      <th>starts_compressor1</th>\n      <th>state</th>\n      <th>extended_state</th>\n      <th>compressor_heating</th>\n      <th>defrosting</th>\n      <th>heatpump_running</th>\n      <th>heatpump_heating</th>\n      <th>heatpump_servicewater</th>\n    </tr>\n    <tr>\n      <th>time</th>\n      <th></th>\n      <th></th>\n      <th></th>\n      <th></th>\n      <th></th>\n      <th></th>\n      <th></th>\n      <th></th>\n      <th></th>\n      <th></th>\n      <th></th>\n      <th></th>\n      <th></th>\n      <th></th>\n      <th></th>\n      <th></th>\n      <th></th>\n      <th></th>\n      <th></th>\n    </tr>\n  </thead>\n  <tbody>\n    <tr>\n      <th>2016-01-16 14:35:50</th>\n      <td>13.8</td>\n      <td>NaN</td>\n      <td>NaN</td>\n      <td>34.0</td>\n      <td>NaN</td>\n      <td>NaN</td>\n      <td>NaN</td>\n      <td>60.9</td>\n      <td>3.7</td>\n      <td>NaN</td>\n      <td>NaN</td>\n      <td>1447</td>\n      <td>Heatpump running: 04:30:27</td>\n      <td>heating: 04:30:27</td>\n      <td>False</td>\n      <td>False</td>\n      <td>True</td>\n      <td>True</td>\n      <td>False</td>\n    </tr>\n    <tr>\n      <th>2016-01-16 14:36:00</th>\n      <td>13.9</td>\n      <td>NaN</td>\n      <td>NaN</td>\n      <td>34.1</td>\n      <td>NaN</td>\n      <td>38.5</td>\n      <td>NaN</td>\n      <td>61.0</td>\n      <td>3.7</td>\n      <td>NaN</td>\n      <td>NaN</td>\n      <td>1447</td>\n      <td>Heatpump running: 04:30:38</td>\n      <td>heating: 04:30:38</td>\n      <td>False</td>\n      <td>False</td>\n      <td>True</td>\n      <td>True</td>\n      <td>False</td>\n    </tr>\n    <tr>\n      <th>2016-01-16 14:36:50</th>\n      <td>13.8</td>\n      <td>28.9</td>\n      <td>NaN</td>\n      <td>34.3</td>\n      <td>NaN</td>\n      <td>38.6</td>\n      <td>NaN</td>\n      <td>61.0</td>\n      <td>3.6</td>\n      <td>NaN</td>\n      <td>NaN</td>\n      <td>1447</td>\n      <td>Heatpump running: 04:31:17</td>\n      <td>heating: 04:31:17</td>\n      <td>False</td>\n      <td>False</td>\n      <td>True</td>\n      <td>True</td>\n      <td>False</td>\n    </tr>\n    <tr>\n      <th>2016-01-16 14:37:01</th>\n      <td>13.9</td>\n      <td>28.9</td>\n      <td>NaN</td>\n      <td>34.3</td>\n      <td>NaN</td>\n      <td>38.6</td>\n      <td>NaN</td>\n      <td>61.0</td>\n      <td>3.6</td>\n      <td>NaN</td>\n      <td>NaN</td>\n      <td>1447</td>\n      <td>Heatpump running: 04:31:37</td>\n      <td>heating: 04:31:37</td>\n      <td>False</td>\n      <td>False</td>\n      <td>True</td>\n      <td>True</td>\n      <td>False</td>\n    </tr>\n    <tr>\n      <th>2016-01-16 14:37:51</th>\n      <td>13.8</td>\n      <td>28.9</td>\n      <td>NaN</td>\n      <td>34.2</td>\n      <td>NaN</td>\n      <td>38.6</td>\n      <td>NaN</td>\n      <td>61.1</td>\n      <td>3.6</td>\n      <td>33.1</td>\n      <td>NaN</td>\n      <td>1447</td>\n      <td>Heatpump running: 04:32:28</td>\n      <td>heating: 04:32:28</td>\n      <td>False</td>\n      <td>False</td>\n      <td>True</td>\n      <td>True</td>\n      <td>False</td>\n    </tr>\n    <tr>\n      <th>...</th>\n      <td>...</td>\n      <td>...</td>\n      <td>...</td>\n      <td>...</td>\n      <td>...</td>\n      <td>...</td>\n      <td>...</td>\n      <td>...</td>\n      <td>...</td>\n      <td>...</td>\n      <td>...</td>\n      <td>...</td>\n      <td>...</td>\n      <td>...</td>\n      <td>...</td>\n      <td>...</td>\n      <td>...</td>\n      <td>...</td>\n      <td>...</td>\n    </tr>\n    <tr>\n      <th>2020-12-24 22:57:30</th>\n      <td>11.9</td>\n      <td>21.7</td>\n      <td>15.0</td>\n      <td>21.7</td>\n      <td>43.0</td>\n      <td>42.4</td>\n      <td>38.2</td>\n      <td>14.9</td>\n      <td>5.9</td>\n      <td>22.1</td>\n      <td>0.0</td>\n      <td>3745</td>\n      <td>Heatpump stopped: 08:13:56</td>\n      <td>standby: 08:13:56</td>\n      <td>False</td>\n      <td>False</td>\n      <td>False</td>\n      <td>False</td>\n      <td>False</td>\n    </tr>\n    <tr>\n      <th>2020-12-24 23:03:14</th>\n      <td>12.0</td>\n      <td>21.6</td>\n      <td>15.0</td>\n      <td>21.7</td>\n      <td>43.0</td>\n      <td>42.4</td>\n      <td>38.2</td>\n      <td>14.8</td>\n      <td>5.6</td>\n      <td>22.1</td>\n      <td>0.0</td>\n      <td>3745</td>\n      <td>Heatpump stopped: 08:19:37</td>\n      <td>standby: 08:19:37</td>\n      <td>False</td>\n      <td>False</td>\n      <td>False</td>\n      <td>False</td>\n      <td>False</td>\n    </tr>\n    <tr>\n      <th>2020-12-24 23:03:24</th>\n      <td>11.9</td>\n      <td>21.6</td>\n      <td>15.0</td>\n      <td>21.7</td>\n      <td>43.0</td>\n      <td>42.4</td>\n      <td>38.2</td>\n      <td>14.8</td>\n      <td>5.6</td>\n      <td>22.1</td>\n      <td>0.0</td>\n      <td>3745</td>\n      <td>Heatpump stopped: 08:19:47</td>\n      <td>standby: 08:19:47</td>\n      <td>False</td>\n      <td>False</td>\n      <td>False</td>\n      <td>False</td>\n      <td>False</td>\n    </tr>\n    <tr>\n      <th>2020-12-24 23:05:35</th>\n      <td>12.0</td>\n      <td>21.6</td>\n      <td>15.0</td>\n      <td>21.7</td>\n      <td>43.0</td>\n      <td>42.4</td>\n      <td>38.2</td>\n      <td>14.8</td>\n      <td>5.6</td>\n      <td>22.1</td>\n      <td>0.0</td>\n      <td>3745</td>\n      <td>Heatpump stopped: 08:21:59</td>\n      <td>standby: 08:21:59</td>\n      <td>False</td>\n      <td>False</td>\n      <td>False</td>\n      <td>False</td>\n      <td>False</td>\n    </tr>\n    <tr>\n      <th>2020-12-24 23:05:45</th>\n      <td>11.9</td>\n      <td>21.6</td>\n      <td>15.0</td>\n      <td>21.7</td>\n      <td>43.0</td>\n      <td>42.4</td>\n      <td>38.2</td>\n      <td>14.8</td>\n      <td>5.7</td>\n      <td>22.1</td>\n      <td>0.0</td>\n      <td>3745</td>\n      <td>Heatpump stopped: 08:22:08</td>\n      <td>standby: 08:22:08</td>\n      <td>False</td>\n      <td>False</td>\n      <td>False</td>\n      <td>False</td>\n      <td>False</td>\n    </tr>\n  </tbody>\n</table>\n<p>2071709 rows × 19 columns</p>\n</div>"
     },
     "metadata": {},
     "execution_count": 21
    }
   ],
   "source": [
    "merged_df"
   ]
  },
  {
   "cell_type": "code",
   "execution_count": null,
   "metadata": {},
   "outputs": [],
   "source": []
  }
 ]
}